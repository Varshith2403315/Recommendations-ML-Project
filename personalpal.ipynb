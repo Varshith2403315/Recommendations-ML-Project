{
 "cells": [
  {
   "cell_type": "markdown",
   "id": "5973dcc5-3a28-4c91-9831-72f0e0be68ee",
   "metadata": {},
   "source": [
    "---\n",
    "# *Building personal AI pal that recommends what your **mood** wants, not just what the crowd watches.*\n",
    "\n",
    "---\n",
    "### Core Features\n",
    "\n",
    "- **Text-Based Recommendations** – Input natural language tags; get content that matches the feel you're looking for.\n",
    "- **Book Recommender** – Suggests books using thematic tag similarity.\n",
    "- **Movie Recommender** – Finds movies based on user-defined themes or concepts.\n",
    "- **Content-Based Filtering** – Works even if you’re a new user with no past data.\n",
    "\n",
    "---\n",
    "##  Datasets Used\n",
    "\n",
    "#### Books\n",
    "- **Source**: [GoodBooks-10k](https://www.kaggle.com/datasets/zygmunt/goodbooks-10k)\n",
    "- **Details**: Contains 10,000 popular books with metadata and user tags.\n",
    "- **Prep**: Cleaned and merged tags into a single text field per book for vectorization.\n",
    "\n",
    "#### Movies\n",
    "- **Source**: [MovieLens + Genome Tags](https://www.kaggle.com/datasets/grouplens/movielens)\n",
    "- **Files Used**: `movies.csv`, `genome_tags.csv`, `genome_scores.csv`\n",
    "- **Prep**: Selected top relevant tags per movie and combined with metadata.\n",
    "\n",
    "---"
   ]
  },
  {
   "cell_type": "code",
   "execution_count": 17,
   "id": "04e65d35-ced6-43f9-b8e0-0b30223445ef",
   "metadata": {},
   "outputs": [],
   "source": [
    "import pandas as pd\n",
    "from sklearn.feature_extraction.text import TfidfVectorizer\n",
    "from sklearn.metrics.pairwise import cosine_similarity"
   ]
  },
  {
   "cell_type": "code",
   "execution_count": 40,
   "id": "37281f03-cd6f-4e1f-9645-ee4eb10865d0",
   "metadata": {},
   "outputs": [],
   "source": [
    "# Loading the data sets of the books from kaggle\n",
    "# for book reco\n",
    "books = pd.read_csv(\"Data/books.csv\")\n",
    "book_tags = pd.read_csv(\"Data/book_tags.csv\")\n",
    "tags = pd.read_csv(\"Data/tags.csv\")\n",
    "#for movies reco\n",
    "movies = pd.read_csv(\"Data/movie.csv\")\n",
    "genome_tags = pd.read_csv(\"Data/genome_tags.csv\")\n",
    "genome_scores = pd.read_csv(\"Data/genome_scores.csv\")"
   ]
  },
  {
   "cell_type": "code",
   "execution_count": 43,
   "id": "1b686ea8-8607-4c86-9428-1d0bb4b8e58c",
   "metadata": {},
   "outputs": [
    {
     "data": {
      "text/html": [
       "<div>\n",
       "<style scoped>\n",
       "    .dataframe tbody tr th:only-of-type {\n",
       "        vertical-align: middle;\n",
       "    }\n",
       "\n",
       "    .dataframe tbody tr th {\n",
       "        vertical-align: top;\n",
       "    }\n",
       "\n",
       "    .dataframe thead th {\n",
       "        text-align: right;\n",
       "    }\n",
       "</style>\n",
       "<table border=\"1\" class=\"dataframe\">\n",
       "  <thead>\n",
       "    <tr style=\"text-align: right;\">\n",
       "      <th></th>\n",
       "      <th>id</th>\n",
       "      <th>book_id</th>\n",
       "      <th>best_book_id</th>\n",
       "      <th>work_id</th>\n",
       "      <th>books_count</th>\n",
       "      <th>isbn</th>\n",
       "      <th>isbn13</th>\n",
       "      <th>authors</th>\n",
       "      <th>original_publication_year</th>\n",
       "      <th>original_title</th>\n",
       "      <th>...</th>\n",
       "      <th>ratings_count</th>\n",
       "      <th>work_ratings_count</th>\n",
       "      <th>work_text_reviews_count</th>\n",
       "      <th>ratings_1</th>\n",
       "      <th>ratings_2</th>\n",
       "      <th>ratings_3</th>\n",
       "      <th>ratings_4</th>\n",
       "      <th>ratings_5</th>\n",
       "      <th>image_url</th>\n",
       "      <th>small_image_url</th>\n",
       "    </tr>\n",
       "  </thead>\n",
       "  <tbody>\n",
       "    <tr>\n",
       "      <th>0</th>\n",
       "      <td>1</td>\n",
       "      <td>2767052</td>\n",
       "      <td>2767052</td>\n",
       "      <td>2792775</td>\n",
       "      <td>272</td>\n",
       "      <td>439023483</td>\n",
       "      <td>9.780439e+12</td>\n",
       "      <td>Suzanne Collins</td>\n",
       "      <td>2008.0</td>\n",
       "      <td>The Hunger Games</td>\n",
       "      <td>...</td>\n",
       "      <td>4780653</td>\n",
       "      <td>4942365</td>\n",
       "      <td>155254</td>\n",
       "      <td>66715</td>\n",
       "      <td>127936</td>\n",
       "      <td>560092</td>\n",
       "      <td>1481305</td>\n",
       "      <td>2706317</td>\n",
       "      <td>https://images.gr-assets.com/books/1447303603m...</td>\n",
       "      <td>https://images.gr-assets.com/books/1447303603s...</td>\n",
       "    </tr>\n",
       "  </tbody>\n",
       "</table>\n",
       "<p>1 rows × 23 columns</p>\n",
       "</div>"
      ],
      "text/plain": [
       "   id  book_id  best_book_id  work_id  books_count       isbn        isbn13  \\\n",
       "0   1  2767052       2767052  2792775          272  439023483  9.780439e+12   \n",
       "\n",
       "           authors  original_publication_year    original_title  ...  \\\n",
       "0  Suzanne Collins                     2008.0  The Hunger Games  ...   \n",
       "\n",
       "  ratings_count work_ratings_count  work_text_reviews_count  ratings_1  \\\n",
       "0       4780653            4942365                   155254      66715   \n",
       "\n",
       "   ratings_2  ratings_3  ratings_4  ratings_5  \\\n",
       "0     127936     560092    1481305    2706317   \n",
       "\n",
       "                                           image_url  \\\n",
       "0  https://images.gr-assets.com/books/1447303603m...   \n",
       "\n",
       "                                     small_image_url  \n",
       "0  https://images.gr-assets.com/books/1447303603s...  \n",
       "\n",
       "[1 rows x 23 columns]"
      ]
     },
     "execution_count": 43,
     "metadata": {},
     "output_type": "execute_result"
    }
   ],
   "source": [
    "books.head(1)"
   ]
  },
  {
   "cell_type": "code",
   "execution_count": 44,
   "id": "4087b8af-60cf-46bc-994d-76d7dfa663e7",
   "metadata": {},
   "outputs": [
    {
     "data": {
      "text/html": [
       "<div>\n",
       "<style scoped>\n",
       "    .dataframe tbody tr th:only-of-type {\n",
       "        vertical-align: middle;\n",
       "    }\n",
       "\n",
       "    .dataframe tbody tr th {\n",
       "        vertical-align: top;\n",
       "    }\n",
       "\n",
       "    .dataframe thead th {\n",
       "        text-align: right;\n",
       "    }\n",
       "</style>\n",
       "<table border=\"1\" class=\"dataframe\">\n",
       "  <thead>\n",
       "    <tr style=\"text-align: right;\">\n",
       "      <th></th>\n",
       "      <th>tag_id</th>\n",
       "      <th>tag_name</th>\n",
       "    </tr>\n",
       "  </thead>\n",
       "  <tbody>\n",
       "    <tr>\n",
       "      <th>0</th>\n",
       "      <td>0</td>\n",
       "      <td>-</td>\n",
       "    </tr>\n",
       "  </tbody>\n",
       "</table>\n",
       "</div>"
      ],
      "text/plain": [
       "   tag_id tag_name\n",
       "0       0        -"
      ]
     },
     "execution_count": 44,
     "metadata": {},
     "output_type": "execute_result"
    }
   ],
   "source": [
    "tags.head(1)"
   ]
  },
  {
   "cell_type": "code",
   "execution_count": 7,
   "id": "7383b3e8-6c08-4055-9d64-7d06a5f33315",
   "metadata": {},
   "outputs": [
    {
     "data": {
      "text/html": [
       "<div>\n",
       "<style scoped>\n",
       "    .dataframe tbody tr th:only-of-type {\n",
       "        vertical-align: middle;\n",
       "    }\n",
       "\n",
       "    .dataframe tbody tr th {\n",
       "        vertical-align: top;\n",
       "    }\n",
       "\n",
       "    .dataframe thead th {\n",
       "        text-align: right;\n",
       "    }\n",
       "</style>\n",
       "<table border=\"1\" class=\"dataframe\">\n",
       "  <thead>\n",
       "    <tr style=\"text-align: right;\">\n",
       "      <th></th>\n",
       "      <th>goodreads_book_id</th>\n",
       "      <th>tag_id</th>\n",
       "      <th>count</th>\n",
       "    </tr>\n",
       "  </thead>\n",
       "  <tbody>\n",
       "    <tr>\n",
       "      <th>0</th>\n",
       "      <td>1</td>\n",
       "      <td>30574</td>\n",
       "      <td>167697</td>\n",
       "    </tr>\n",
       "    <tr>\n",
       "      <th>1</th>\n",
       "      <td>1</td>\n",
       "      <td>11305</td>\n",
       "      <td>37174</td>\n",
       "    </tr>\n",
       "  </tbody>\n",
       "</table>\n",
       "</div>"
      ],
      "text/plain": [
       "   goodreads_book_id  tag_id   count\n",
       "0                  1   30574  167697\n",
       "1                  1   11305   37174"
      ]
     },
     "execution_count": 7,
     "metadata": {},
     "output_type": "execute_result"
    }
   ],
   "source": [
    "book_tags.head(2)"
   ]
  },
  {
   "cell_type": "markdown",
   "id": "a6814c1f-df22-4638-a8e8-fdfef247b3f7",
   "metadata": {},
   "source": [
    "#### Clean & Merge Tags for books"
   ]
  },
  {
   "cell_type": "code",
   "execution_count": 11,
   "id": "7b868491-c88a-4311-8521-8c36ce144f54",
   "metadata": {},
   "outputs": [],
   "source": [
    "books.rename(columns={\"id\": \"goodreads_book_id\"}, inplace=True)\n",
    "book_tags = book_tags.merge(tags, on=\"tag_id\")\n",
    "filtered_tags = book_tags[book_tags[\"count\"] > 50]\n",
    "\n",
    "# Group tags per book\n",
    "tags_per_book = filtered_tags.groupby(\"goodreads_book_id\")[\"tag_name\"].apply(list).reset_index()\n",
    "books_with_tags = books.merge(tags_per_book, on=\"goodreads_book_id\")\n",
    "\n",
    "books_with_tags = books_with_tags[[\"book_id\", \"title\", \"tag_name\"]]\n",
    "books_with_tags.rename(columns={\"tag_name\": \"tags\"}, inplace=True)\n",
    "\n",
    "books_with_tags.to_csv(\"Data/cleaned_books.csv\", index=False)"
   ]
  },
  {
   "cell_type": "code",
   "execution_count": 15,
   "id": "95b85090-325e-4fcf-8051-3ba37c13e3a5",
   "metadata": {},
   "outputs": [],
   "source": [
    "bookshelf = pd.read_csv(\"Data/cleaned_books.csv\")"
   ]
  },
  {
   "cell_type": "code",
   "execution_count": 16,
   "id": "92508376-1af7-49d0-ab39-20487f723bd7",
   "metadata": {
    "scrolled": true
   },
   "outputs": [
    {
     "data": {
      "text/html": [
       "<div>\n",
       "<style scoped>\n",
       "    .dataframe tbody tr th:only-of-type {\n",
       "        vertical-align: middle;\n",
       "    }\n",
       "\n",
       "    .dataframe tbody tr th {\n",
       "        vertical-align: top;\n",
       "    }\n",
       "\n",
       "    .dataframe thead th {\n",
       "        text-align: right;\n",
       "    }\n",
       "</style>\n",
       "<table border=\"1\" class=\"dataframe\">\n",
       "  <thead>\n",
       "    <tr style=\"text-align: right;\">\n",
       "      <th></th>\n",
       "      <th>book_id</th>\n",
       "      <th>title</th>\n",
       "      <th>tags</th>\n",
       "    </tr>\n",
       "  </thead>\n",
       "  <tbody>\n",
       "    <tr>\n",
       "      <th>0</th>\n",
       "      <td>2767052</td>\n",
       "      <td>The Hunger Games (The Hunger Games, #1)</td>\n",
       "      <td>['to-read', 'fantasy', 'favorites', 'currently...</td>\n",
       "    </tr>\n",
       "    <tr>\n",
       "      <th>1</th>\n",
       "      <td>3</td>\n",
       "      <td>Harry Potter and the Sorcerer's Stone (Harry P...</td>\n",
       "      <td>['to-read', 'currently-reading', 'fantasy', 'f...</td>\n",
       "    </tr>\n",
       "  </tbody>\n",
       "</table>\n",
       "</div>"
      ],
      "text/plain": [
       "   book_id                                              title  \\\n",
       "0  2767052            The Hunger Games (The Hunger Games, #1)   \n",
       "1        3  Harry Potter and the Sorcerer's Stone (Harry P...   \n",
       "\n",
       "                                                tags  \n",
       "0  ['to-read', 'fantasy', 'favorites', 'currently...  \n",
       "1  ['to-read', 'currently-reading', 'fantasy', 'f...  "
      ]
     },
     "execution_count": 16,
     "metadata": {},
     "output_type": "execute_result"
    }
   ],
   "source": [
    "bookshelf.head(2)"
   ]
  },
  {
   "cell_type": "markdown",
   "id": "05e357db-4d6e-49bf-88be-0e8e2ae5026a",
   "metadata": {},
   "source": [
    "### Clean and merge the data sets of Movies"
   ]
  },
  {
   "cell_type": "code",
   "execution_count": 48,
   "id": "0668e1a8-8d5d-49c2-8c3f-6497496cad11",
   "metadata": {},
   "outputs": [
    {
     "data": {
      "text/html": [
       "<div>\n",
       "<style scoped>\n",
       "    .dataframe tbody tr th:only-of-type {\n",
       "        vertical-align: middle;\n",
       "    }\n",
       "\n",
       "    .dataframe tbody tr th {\n",
       "        vertical-align: top;\n",
       "    }\n",
       "\n",
       "    .dataframe thead th {\n",
       "        text-align: right;\n",
       "    }\n",
       "</style>\n",
       "<table border=\"1\" class=\"dataframe\">\n",
       "  <thead>\n",
       "    <tr style=\"text-align: right;\">\n",
       "      <th></th>\n",
       "      <th>movieId</th>\n",
       "      <th>tagId</th>\n",
       "      <th>relevance</th>\n",
       "    </tr>\n",
       "  </thead>\n",
       "  <tbody>\n",
       "    <tr>\n",
       "      <th>0</th>\n",
       "      <td>1</td>\n",
       "      <td>1</td>\n",
       "      <td>0.025</td>\n",
       "    </tr>\n",
       "  </tbody>\n",
       "</table>\n",
       "</div>"
      ],
      "text/plain": [
       "   movieId  tagId  relevance\n",
       "0        1      1      0.025"
      ]
     },
     "execution_count": 48,
     "metadata": {},
     "output_type": "execute_result"
    }
   ],
   "source": [
    "genome_scores.head(1)"
   ]
  },
  {
   "cell_type": "code",
   "execution_count": 54,
   "id": "e0ecc5c3-2f8a-49d0-a18d-a8c669f4df1d",
   "metadata": {},
   "outputs": [
    {
     "data": {
      "text/html": [
       "<div>\n",
       "<style scoped>\n",
       "    .dataframe tbody tr th:only-of-type {\n",
       "        vertical-align: middle;\n",
       "    }\n",
       "\n",
       "    .dataframe tbody tr th {\n",
       "        vertical-align: top;\n",
       "    }\n",
       "\n",
       "    .dataframe thead th {\n",
       "        text-align: right;\n",
       "    }\n",
       "</style>\n",
       "<table border=\"1\" class=\"dataframe\">\n",
       "  <thead>\n",
       "    <tr style=\"text-align: right;\">\n",
       "      <th></th>\n",
       "      <th>tagId</th>\n",
       "      <th>tag</th>\n",
       "    </tr>\n",
       "  </thead>\n",
       "  <tbody>\n",
       "    <tr>\n",
       "      <th>0</th>\n",
       "      <td>1</td>\n",
       "      <td>007</td>\n",
       "    </tr>\n",
       "  </tbody>\n",
       "</table>\n",
       "</div>"
      ],
      "text/plain": [
       "   tagId  tag\n",
       "0      1  007"
      ]
     },
     "execution_count": 54,
     "metadata": {},
     "output_type": "execute_result"
    }
   ],
   "source": [
    "genome_tags.head(1)"
   ]
  },
  {
   "cell_type": "code",
   "execution_count": 50,
   "id": "4ac14f8b-2e5b-4605-9b58-a94ccd211321",
   "metadata": {},
   "outputs": [
    {
     "data": {
      "text/html": [
       "<div>\n",
       "<style scoped>\n",
       "    .dataframe tbody tr th:only-of-type {\n",
       "        vertical-align: middle;\n",
       "    }\n",
       "\n",
       "    .dataframe tbody tr th {\n",
       "        vertical-align: top;\n",
       "    }\n",
       "\n",
       "    .dataframe thead th {\n",
       "        text-align: right;\n",
       "    }\n",
       "</style>\n",
       "<table border=\"1\" class=\"dataframe\">\n",
       "  <thead>\n",
       "    <tr style=\"text-align: right;\">\n",
       "      <th></th>\n",
       "      <th>movieId</th>\n",
       "      <th>title</th>\n",
       "      <th>genres</th>\n",
       "    </tr>\n",
       "  </thead>\n",
       "  <tbody>\n",
       "    <tr>\n",
       "      <th>0</th>\n",
       "      <td>1</td>\n",
       "      <td>Toy Story (1995)</td>\n",
       "      <td>Adventure|Animation|Children|Comedy|Fantasy</td>\n",
       "    </tr>\n",
       "  </tbody>\n",
       "</table>\n",
       "</div>"
      ],
      "text/plain": [
       "   movieId             title                                       genres\n",
       "0        1  Toy Story (1995)  Adventure|Animation|Children|Comedy|Fantasy"
      ]
     },
     "execution_count": 50,
     "metadata": {},
     "output_type": "execute_result"
    }
   ],
   "source": [
    "movies.head(1)"
   ]
  },
  {
   "cell_type": "code",
   "execution_count": 61,
   "id": "dce08ce4-501f-4d1f-8785-1ee9761cda5f",
   "metadata": {},
   "outputs": [],
   "source": [
    "tagged_scores = genome_scores.merge(genome_tags, on=\"tagId\")\n",
    "##Filter tags by relevance score\n",
    "filtered_tags = tagged_scores[tagged_scores[\"relevance\"] > 0.1]\n",
    "\n",
    "tags_per_movie = filtered_tags.groupby(\"movieId\")[\"tag\"].apply(list).reset_index()\n",
    "movies_with_tags = movies.merge(tags_per_movie, on=\"movieId\")\n",
    "movies_with_tags = movies_with_tags[[\"movieId\", \"title\", \"tag\"]]\n",
    "movies_with_tags.to_csv(\"Data/cleaned_movies.csv\", index=False)"
   ]
  },
  {
   "cell_type": "code",
   "execution_count": 62,
   "id": "a0926c4b-7460-49f4-a72b-b12e4666ab15",
   "metadata": {},
   "outputs": [
    {
     "data": {
      "text/html": [
       "<div>\n",
       "<style scoped>\n",
       "    .dataframe tbody tr th:only-of-type {\n",
       "        vertical-align: middle;\n",
       "    }\n",
       "\n",
       "    .dataframe tbody tr th {\n",
       "        vertical-align: top;\n",
       "    }\n",
       "\n",
       "    .dataframe thead th {\n",
       "        text-align: right;\n",
       "    }\n",
       "</style>\n",
       "<table border=\"1\" class=\"dataframe\">\n",
       "  <thead>\n",
       "    <tr style=\"text-align: right;\">\n",
       "      <th></th>\n",
       "      <th>movieId</th>\n",
       "      <th>title</th>\n",
       "      <th>tag</th>\n",
       "    </tr>\n",
       "  </thead>\n",
       "  <tbody>\n",
       "    <tr>\n",
       "      <th>0</th>\n",
       "      <td>1</td>\n",
       "      <td>Toy Story (1995)</td>\n",
       "      <td>['1930s', '1950s', '1970s', '1980s', '3d', '70...</td>\n",
       "    </tr>\n",
       "  </tbody>\n",
       "</table>\n",
       "</div>"
      ],
      "text/plain": [
       "   movieId             title  \\\n",
       "0        1  Toy Story (1995)   \n",
       "\n",
       "                                                 tag  \n",
       "0  ['1930s', '1950s', '1970s', '1980s', '3d', '70...  "
      ]
     },
     "execution_count": 62,
     "metadata": {},
     "output_type": "execute_result"
    }
   ],
   "source": [
    "cleaned_movies = pd.read_csv(\"Data/cleaned_movies.csv\")\n",
    "cleaned_movies.head(1)"
   ]
  },
  {
   "cell_type": "markdown",
   "id": "052ce547-6583-4a3b-86f5-740495f37032",
   "metadata": {},
   "source": [
    "## Converting Tags List to Text\n",
    "\n",
    "TF-IDF requires string type senetence input, so we convert the tag lists into joined strings per book.\n"
   ]
  },
  {
   "cell_type": "code",
   "execution_count": 63,
   "id": "3909c788-cfb6-46f5-8d06-482e8888d7bd",
   "metadata": {},
   "outputs": [],
   "source": [
    "def list_to_string(tags):\n",
    "    if isinstance(tags, str):\n",
    "        tags = eval(tags)\n",
    "    result = \"\"\n",
    "    for i in range(len(tags)):\n",
    "        result += tags[i] + \" \"\n",
    "    return result.strip()\n",
    "\n",
    "bookshelf[\"tags_joined\"] = bookshelf[\"tags\"].apply(list_to_string)\n",
    "movies_with_tags[\"tag\"] = movies_with_tags[\"tag\"].apply(list_to_string)"
   ]
  },
  {
   "cell_type": "code",
   "execution_count": 20,
   "id": "6befa249-a89d-49f6-a9ce-12bbac4c129d",
   "metadata": {},
   "outputs": [
    {
     "data": {
      "text/html": [
       "<div>\n",
       "<style scoped>\n",
       "    .dataframe tbody tr th:only-of-type {\n",
       "        vertical-align: middle;\n",
       "    }\n",
       "\n",
       "    .dataframe tbody tr th {\n",
       "        vertical-align: top;\n",
       "    }\n",
       "\n",
       "    .dataframe thead th {\n",
       "        text-align: right;\n",
       "    }\n",
       "</style>\n",
       "<table border=\"1\" class=\"dataframe\">\n",
       "  <thead>\n",
       "    <tr style=\"text-align: right;\">\n",
       "      <th></th>\n",
       "      <th>book_id</th>\n",
       "      <th>title</th>\n",
       "      <th>tags</th>\n",
       "      <th>tags_joined</th>\n",
       "    </tr>\n",
       "  </thead>\n",
       "  <tbody>\n",
       "    <tr>\n",
       "      <th>0</th>\n",
       "      <td>2767052</td>\n",
       "      <td>The Hunger Games (The Hunger Games, #1)</td>\n",
       "      <td>['to-read', 'fantasy', 'favorites', 'currently...</td>\n",
       "      <td>to-read fantasy favorites currently-reading yo...</td>\n",
       "    </tr>\n",
       "  </tbody>\n",
       "</table>\n",
       "</div>"
      ],
      "text/plain": [
       "   book_id                                    title  \\\n",
       "0  2767052  The Hunger Games (The Hunger Games, #1)   \n",
       "\n",
       "                                                tags  \\\n",
       "0  ['to-read', 'fantasy', 'favorites', 'currently...   \n",
       "\n",
       "                                         tags_joined  \n",
       "0  to-read fantasy favorites currently-reading yo...  "
      ]
     },
     "execution_count": 20,
     "metadata": {},
     "output_type": "execute_result"
    }
   ],
   "source": [
    "bookshelf.head(1)"
   ]
  },
  {
   "cell_type": "code",
   "execution_count": 64,
   "id": "6375d479-4cf4-45b3-936b-45c1edef6159",
   "metadata": {},
   "outputs": [
    {
     "data": {
      "text/html": [
       "<div>\n",
       "<style scoped>\n",
       "    .dataframe tbody tr th:only-of-type {\n",
       "        vertical-align: middle;\n",
       "    }\n",
       "\n",
       "    .dataframe tbody tr th {\n",
       "        vertical-align: top;\n",
       "    }\n",
       "\n",
       "    .dataframe thead th {\n",
       "        text-align: right;\n",
       "    }\n",
       "</style>\n",
       "<table border=\"1\" class=\"dataframe\">\n",
       "  <thead>\n",
       "    <tr style=\"text-align: right;\">\n",
       "      <th></th>\n",
       "      <th>movieId</th>\n",
       "      <th>title</th>\n",
       "      <th>tag</th>\n",
       "    </tr>\n",
       "  </thead>\n",
       "  <tbody>\n",
       "    <tr>\n",
       "      <th>0</th>\n",
       "      <td>1</td>\n",
       "      <td>Toy Story (1995)</td>\n",
       "      <td>1930s 1950s 1970s 1980s 3d 70mm 80s aardman st...</td>\n",
       "    </tr>\n",
       "  </tbody>\n",
       "</table>\n",
       "</div>"
      ],
      "text/plain": [
       "   movieId             title  \\\n",
       "0        1  Toy Story (1995)   \n",
       "\n",
       "                                                 tag  \n",
       "0  1930s 1950s 1970s 1980s 3d 70mm 80s aardman st...  "
      ]
     },
     "execution_count": 64,
     "metadata": {},
     "output_type": "execute_result"
    }
   ],
   "source": [
    "movies_with_tags.head(1)"
   ]
  },
  {
   "cell_type": "markdown",
   "id": "c9d79b55-a81e-4bc1-a476-3dd58f76d4f5",
   "metadata": {},
   "source": [
    "##### TF-IDF Vectorization of Tags\n",
    "\n",
    "We use `TfidfVectorizer` from `sklearn` to turn the tag text into numerical vectors. This captures the importance of tags for each book.\n"
   ]
  },
  {
   "cell_type": "code",
   "execution_count": 66,
   "id": "745d713c-7286-4045-a141-abc92c2668eb",
   "metadata": {},
   "outputs": [],
   "source": [
    "book_vectorizer = TfidfVectorizer()\n",
    "tfidf_book_matrix = book_vectorizer.fit_transform(bookshelf[\"tags_joined\"])\n",
    "similarity_book_matrix = cosine_similarity(tfidf_book_matrix)\n",
    "\n",
    "movie_vectorizer = TfidfVectorizer()\n",
    "tfidf_movies_matrix = movie_vectorizer.fit_transform(movies_with_tags[\"tag\"])\n",
    "similarity_movies_matrix = cosine_similarity(tfidf_movies_matrix)"
   ]
  },
  {
   "cell_type": "markdown",
   "id": "5e23b70f-b862-4155-951f-30e934dba99d",
   "metadata": {},
   "source": [
    "# Funtion of recommending\n",
    "### By title\n"
   ]
  },
  {
   "cell_type": "code",
   "execution_count": 75,
   "id": "ffee0dab-0ea5-4776-b668-490d82dc41b1",
   "metadata": {},
   "outputs": [],
   "source": [
    "def recommend_books(title, top_n=5):\n",
    "    # Making the title lowercase so we can match it\n",
    "    title = title.lower()\n",
    "\n",
    "    # Trying to find the book in the dataset\n",
    "    book_found = False\n",
    "    for i in range(len(bookshelf)):\n",
    "        if bookshelf.loc[i, 'title'].lower() == title:\n",
    "            book_index = i\n",
    "            book_found = True\n",
    "            break\n",
    "    if not book_found:\n",
    "        print(\"Sorry, that book was not found!\")\n",
    "        return\n",
    "    similarities = cosine_similarity(tfidf_book_matrix[book_index], tfidf_book_matrix)\n",
    "    similarities = similarities[0]\n",
    "\n",
    "    similar_books = []\n",
    "    for i in range(len(similarities)):\n",
    "        if i != book_index:  # for Skiping itself so that we wont recommend the book the user entered\n",
    "            similar_books.append((i, similarities[i]))\n",
    "\n",
    "    # Sort the list by weight score\n",
    "    similar_books.sort(key=lambda x: x[1], reverse=True)\n",
    "    print(f\"Books similar to '{title.title()}':\\n\")\n",
    "    for i in range(top_n):\n",
    "        index = similar_books[i][0]\n",
    "        score = round(similar_books[i][1], 2)\n",
    "        book_name = bookshelf.loc[index, 'title']\n",
    "        print(f\"{book_name}  -->  Similarity Score: {score}\")\n",
    "\n",
    "        \n",
    "def recommend_movies(movie_title, top_n=5):\n",
    "    movie_title = movie_title.lower()\n",
    "    # Trying to find the movie in the dataset\n",
    "    found = False\n",
    "    for i in range(len(movies_with_tags)):\n",
    "        if movies_with_tags.loc[i, 'title'].lower() == movie_title:\n",
    "            movie_index = i\n",
    "            found = True\n",
    "            break\n",
    "\n",
    "    if not found:\n",
    "        print(\"Sorry, that movie was not found!\")\n",
    "        return\n",
    "    similarities = similarity_movies_matrix[movie_index]\n",
    "\n",
    "    # List for (movie_index, similarity_score)\n",
    "    similar_movies = [(i, similarities[i]) for i in range(len(similarities)) if i != movie_index]\n",
    "    similar_movies.sort(key=lambda x: x[1], reverse=True)\n",
    "\n",
    "    print(f\"\\nMovies similar to '{movie_title.title()}':\\n\")\n",
    "    for i in range(top_n):\n",
    "        index = similar_movies[i][0]\n",
    "        score = round(similar_movies[i][1], 2)\n",
    "        name = movies_with_tags.loc[index, 'title']\n",
    "        print(f\"{name}  -->  Similarity Score: {score}\")\n"
   ]
  },
  {
   "cell_type": "markdown",
   "id": "7b3ab4a6-e8d2-4b1e-950c-e504950da499",
   "metadata": {},
   "source": [
    "# Funtion of recommending\n",
    "### By tags"
   ]
  },
  {
   "cell_type": "code",
   "execution_count": 110,
   "id": "4c576d8f-f71c-4756-9a45-31615a016577",
   "metadata": {},
   "outputs": [],
   "source": [
    "def recommend_book_by_tags(input_tags, top_n=5):\n",
    "    input_vector = book_vectorizer.transform([input_tags])\n",
    "    similarities = cosine_similarity(input_vector, tfidf_book_matrix)[0]\n",
    "\n",
    "    similar_books = []\n",
    "    for i in range(len(similarities)):\n",
    "        similar_books.append((i, similarities[i]))\n",
    "    # Sort by similarity\n",
    "    similar_books.sort(key=lambda x: x[1], reverse=True)\n",
    "    print(f\"\\nBooks similar to tags like: '{input_tags}'\\n\")\n",
    "    for i in range(top_n):\n",
    "        book_index = similar_books[i][0]\n",
    "        book_title = bookshelf.loc[book_index, 'title']\n",
    "        score = round(similar_books[i][1], 2)\n",
    "        print(f\"{book_title}  -->  Similarity Score: {score}\")\n",
    "\n",
    "def recommend_movies_by_tags(input_tags, top_n=5):\n",
    "    input_vector = movie_vectorizer.transform([input_tags])\n",
    "    similarities = cosine_similarity(input_vector, tfidf_movies_matrix)\n",
    "    similarities = similarities[0]\n",
    "\n",
    "    # list for (movie_index, similarity_score)\n",
    "    similar_movies = [(i, similarities[i]) for i in range(len(similarities))]\n",
    "    similar_movies.sort(key=lambda x: x[1], reverse=True)\n",
    "    print(f\"\\nTop {top_n} movies similar to tags: '{input_tags}'\\n\")\n",
    "    for i in range(top_n):\n",
    "        index = similar_movies[i][0]\n",
    "        title = movies_with_tags.loc[index, 'title']\n",
    "        score = round(similar_movies[i][1], 2)\n",
    "        print(f\"{title}  -->  Similarity Score: {score}\")\n"
   ]
  },
  {
   "cell_type": "markdown",
   "id": "eb9102be-f662-4be5-8352-46ded455924e",
   "metadata": {},
   "source": [
    "# Some Examples as test\n"
   ]
  },
  {
   "cell_type": "code",
   "execution_count": 81,
   "id": "740c45e8-66ac-4e25-a065-ae8e35b26cee",
   "metadata": {},
   "outputs": [
    {
     "name": "stdout",
     "output_type": "stream",
     "text": [
      "Books similar to 'The Great Gatsby':\n",
      "\n",
      "Twilight (Twilight, #1)  -->  Similarity Score: 0.98\n",
      "The Fault in Our Stars  -->  Similarity Score: 0.96\n",
      "The Hunger Games (The Hunger Games, #1)  -->  Similarity Score: 0.95\n",
      "Harry Potter and the Sorcerer's Stone (Harry Potter, #1)  -->  Similarity Score: 0.79\n",
      "Private Games (Private #3)  -->  Similarity Score: 0.69\n"
     ]
    }
   ],
   "source": [
    "recommend_books(\"The Great Gatsby\")"
   ]
  },
  {
   "cell_type": "code",
   "execution_count": 109,
   "id": "5ce5e450-aed1-457d-81ee-d464c559eccf",
   "metadata": {},
   "outputs": [
    {
     "name": "stdout",
     "output_type": "stream",
     "text": [
      "\n",
      "Books similar to tags like: 'adventure'\n",
      "\n",
      "The Quiche of Death (Agatha Raisin, #1)  -->  Similarity Score: 0.42\n",
      "The Lost Boy (Dave Pelzer #2)  -->  Similarity Score: 0.34\n"
     ]
    }
   ],
   "source": [
    "recommend_book_by_tags(\"adventure\",2)"
   ]
  },
  {
   "cell_type": "code",
   "execution_count": 73,
   "id": "974b2305-b61d-424f-9bdb-0133938d8172",
   "metadata": {
    "scrolled": true
   },
   "outputs": [
    {
     "name": "stdout",
     "output_type": "stream",
     "text": [
      "\n",
      "Movies similar to 'Toy Story (1995)':\n",
      "\n",
      "Toy Story 2 (1999)  -->  Similarity Score: 0.91\n",
      "Monsters, Inc. (2001)  -->  Similarity Score: 0.9\n",
      "Toy Story 3 (2010)  -->  Similarity Score: 0.9\n",
      "Bug's Life, A (1998)  -->  Similarity Score: 0.88\n",
      "Up (2009)  -->  Similarity Score: 0.86\n"
     ]
    }
   ],
   "source": [
    "recommend_movies(\"Toy Story (1995)\")"
   ]
  },
  {
   "cell_type": "code",
   "execution_count": 71,
   "id": "96cab62b-7fad-4227-bf92-97cd4354feff",
   "metadata": {},
   "outputs": [
    {
     "name": "stdout",
     "output_type": "stream",
     "text": [
      "\n",
      "Top 3 movies similar to tags: 'sci-fi space alien war'\n",
      "\n",
      "Final Countdown, The (1980)  -->  Similarity Score: 0.34\n",
      "Earth vs. the Flying Saucers (1956)  -->  Similarity Score: 0.33\n",
      "Wing Commander (1999)  -->  Similarity Score: 0.32\n"
     ]
    }
   ],
   "source": [
    "recommend_movies_by_tags(\"sci-fi space alien war\", 3)"
   ]
  },
  {
   "cell_type": "markdown",
   "id": "bcd03f89-3aec-4254-a82c-37b4c8683e85",
   "metadata": {},
   "source": [
    "## CLose matched tags\n"
   ]
  },
  {
   "cell_type": "code",
   "execution_count": 102,
   "id": "36435c46-92a6-4b6a-806f-9720e9a68ed5",
   "metadata": {},
   "outputs": [],
   "source": [
    "import difflib\n",
    "\n",
    "# For books\n",
    "all_book_tags = set()\n",
    "for tag_string in bookshelf[\"tags_joined\"]:\n",
    "    for tag in tag_string.split():\n",
    "        all_book_tags.add(tag.lower())\n",
    "book_tag_list = sorted(list(all_book_tags))\n",
    "\n",
    "# For movies\n",
    "all_movie_tags = set()\n",
    "for tag_string in movies_with_tags[\"tag\"]:\n",
    "    for tag in tag_string.split():\n",
    "        all_movie_tags.add(tag.lower())\n",
    "movie_tag_list = sorted(list(all_movie_tags))"
   ]
  },
  {
   "cell_type": "code",
   "execution_count": 117,
   "id": "cb492d3d-023b-44f8-9de3-3d81e5343f1f",
   "metadata": {},
   "outputs": [
    {
     "name": "stdin",
     "output_type": "stream",
     "text": [
      "Enter a book tag:  i love action\n"
     ]
    },
    {
     "name": "stdout",
     "output_type": "stream",
     "text": [
      "Did you mean: ['innovation', 'action', 'legal-fiction']\n"
     ]
    }
   ],
   "source": [
    "tag = input(\"Enter related to book tag: \").strip().lower()\n",
    "\n",
    "close_matches = difflib.get_close_matches(tag, book_tag_list, n=3, cutoff=0.6)\n",
    "print(\"Did you mean:\", close_matches)"
   ]
  },
  {
   "cell_type": "code",
   "execution_count": 118,
   "id": "61d035dc-9f8c-4038-a90c-4501aada6955",
   "metadata": {},
   "outputs": [
    {
     "name": "stdin",
     "output_type": "stream",
     "text": [
      "Enter related to movie tag:  i love books\n"
     ]
    },
    {
     "name": "stdout",
     "output_type": "stream",
     "text": [
      "Did you mean: []\n"
     ]
    }
   ],
   "source": [
    "tag = input(\"Enter related to movie tag: \").strip().lower()\n",
    "\n",
    "close_matches = difflib.get_close_matches(tag, movie_tag_list, n=3, cutoff=0.6)\n",
    "print(\"Did you mean:\", close_matches)"
   ]
  },
  {
   "cell_type": "code",
   "execution_count": 116,
   "id": "b60d3e17-820d-4cf4-b435-3b12bfca9acc",
   "metadata": {},
   "outputs": [],
   "source": [
    "# recommend_books(\"The Great Gatsby\")\n",
    "# recommend_book_by_tags(\"adventure\",2)\n",
    "# recommend_movies(\"Toy Story (1995)\")\n",
    "# recommend_movies_by_tags(\"sci-fi space alien war\", 3)"
   ]
  },
  {
   "cell_type": "markdown",
   "id": "543db3bf-b6ec-4c05-a6e6-8aff0a68262c",
   "metadata": {},
   "source": [
    "## Syntax:\n",
    "### funtion(title/tag , number of suggestions)"
   ]
  },
  {
   "cell_type": "code",
   "execution_count": null,
   "id": "b63607b4-82c8-44bf-b697-2849fb62145a",
   "metadata": {},
   "outputs": [],
   "source": []
  }
 ],
 "metadata": {
  "kernelspec": {
   "display_name": "Python 3 (ipykernel)",
   "language": "python",
   "name": "python3"
  },
  "language_info": {
   "codemirror_mode": {
    "name": "ipython",
    "version": 3
   },
   "file_extension": ".py",
   "mimetype": "text/x-python",
   "name": "python",
   "nbconvert_exporter": "python",
   "pygments_lexer": "ipython3",
   "version": "3.12.4"
  }
 },
 "nbformat": 4,
 "nbformat_minor": 5
}
